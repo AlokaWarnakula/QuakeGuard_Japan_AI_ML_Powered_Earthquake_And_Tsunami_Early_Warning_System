{
 "cells": [
  {
   "cell_type": "code",
   "id": "initial_id",
   "metadata": {
    "collapsed": true,
    "ExecuteTime": {
     "end_time": "2025-09-22T14:27:32.433878Z",
     "start_time": "2025-09-22T14:27:27.805691Z"
    }
   },
   "source": [
    "## 🔧 Load Trained Earthquake Magnitude Model\n",
    "import joblib\n",
    "import pandas as pd\n",
    "import numpy as np\n",
    "from sklearn.metrics import mean_absolute_error, mean_squared_error, r2_score\n",
    "import os\n",
    "\n",
    "# Load the saved model\n",
    "model_path = 'best_asia_earthquake_model.pkl'  # Update path if needed\n",
    "model = joblib.load(model_path)\n",
    "\n",
    "print(\"✅ Model loaded successfully!\")\n",
    "print(f\"Model type: {type(model)}\")"
   ],
   "outputs": [
    {
     "name": "stdout",
     "output_type": "stream",
     "text": [
      "✅ Model loaded successfully!\n",
      "Model type: <class 'sklearn.ensemble._stacking.StackingRegressor'>\n"
     ]
    }
   ],
   "execution_count": 1
  },
  {
   "metadata": {
    "ExecuteTime": {
     "end_time": "2025-09-22T14:29:58.299892Z",
     "start_time": "2025-09-22T14:29:57.991063Z"
    }
   },
   "cell_type": "code",
   "source": [
    "## 📥 Load Cleaned Dataset\n",
    "# Load the cleaned dataset\n",
    "df_clean = pd.read_csv('../data/cleaned/cleaned_asia_earthquake.csv')  # Adjust path if needed\n",
    "print(f\"Loaded data shape: {df_clean.shape}\")\n",
    "\n",
    "# Define target and features\n",
    "target = 'mag'\n",
    "X = df_clean.drop(columns=[target])\n",
    "y = df_clean[target]\n",
    "\n",
    "# Check columns match what the model expects\n",
    "print(\"Features used by model:\")\n",
    "print(X.columns.tolist())"
   ],
   "id": "3a27e5dfe7ec751c",
   "outputs": [
    {
     "name": "stdout",
     "output_type": "stream",
     "text": [
      "Loaded data shape: (251023, 19)\n",
      "Features used by model:\n",
      "['latitude', 'longitude', 'depth', 'nst', 'gap', 'rms', 'depthError', 'magNst', 'year', 'month_sin', 'month_cos', 'hour_sin', 'hour_cos', 'region', 'mag_Other', 'mag_mb', 'mag_md', 'mag_ml']\n"
     ]
    }
   ],
   "execution_count": 3
  },
  {
   "metadata": {
    "ExecuteTime": {
     "end_time": "2025-09-22T14:30:18.650959Z",
     "start_time": "2025-09-22T14:30:18.602791Z"
    }
   },
   "cell_type": "code",
   "source": [
    "## 🔢 Split into Train/Test Sets\n",
    "from sklearn.model_selection import train_test_split\n",
    "\n",
    "# Use same random_state for consistency\n",
    "X_train, X_test, y_train, y_test = train_test_split(\n",
    "    X, y,\n",
    "    test_size=0.2,\n",
    "    random_state=42\n",
    ")\n",
    "\n",
    "print(f\"Test set size: {len(X_test)}\")"
   ],
   "id": "63add0c262b894d1",
   "outputs": [
    {
     "name": "stdout",
     "output_type": "stream",
     "text": [
      "Test set size: 50205\n"
     ]
    }
   ],
   "execution_count": 4
  },
  {
   "metadata": {
    "ExecuteTime": {
     "end_time": "2025-09-22T14:30:29.168532Z",
     "start_time": "2025-09-22T14:30:28.737905Z"
    }
   },
   "cell_type": "code",
   "source": [
    "## 📈 Evaluate Model Performance\n",
    "# Predict on test set\n",
    "y_pred = model.predict(X_test)\n",
    "\n",
    "# Calculate metrics\n",
    "mae = mean_absolute_error(y_test, y_pred)\n",
    "rmse = np.sqrt(mean_squared_error(y_test, y_pred))\n",
    "r2 = r2_score(y_test, y_pred)\n",
    "\n",
    "print(\"\\n📊 Model Performance on Test Set\")\n",
    "print(f\"  MAE  : {mae:.3f}\")\n",
    "print(f\"  RMSE : {rmse:.3f}\")\n",
    "print(f\"  R²   : {r2:.3f}\")\n",
    "\n",
    "# Bonus: % within ±0.3\n",
    "errors = np.abs(y_test - y_pred)\n",
    "in_03 = np.mean(errors <= 0.3) * 100\n",
    "print(f\"\\n🎯 Within ±0.3 magnitude: {in_03:.1f}% of test samples\")"
   ],
   "id": "373d01915a6bb484",
   "outputs": [
    {
     "name": "stdout",
     "output_type": "stream",
     "text": [
      "\n",
      "📊 Model Performance on Test Set\n",
      "  MAE  : 0.211\n",
      "  RMSE : 0.294\n",
      "  R²   : 0.780\n",
      "\n",
      "🎯 Within ±0.3 magnitude: 77.5% of test samples\n"
     ]
    }
   ],
   "execution_count": 5
  },
  {
   "metadata": {
    "ExecuteTime": {
     "end_time": "2025-09-22T14:41:32.650473Z",
     "start_time": "2025-09-22T14:41:31.318547Z"
    }
   },
   "cell_type": "code",
   "source": [
    "## 🔮 Predict for a Custom Earthquake\n",
    "# Edit these values to simulate different earthquakes\n",
    "lat = 43.773  # Latitude\n",
    "log = 147.321  # Longitude (you called it 'log')\n",
    "depth = 14.0\n",
    "nst = 24\n",
    "gap = 111.0\n",
    "rms = 0.9\n",
    "depthError = 4.7\n",
    "magNst = 10\n",
    "year = 1994\n",
    "\n",
    "# One-hot encoded mag types — pick one\n",
    "mag_mb = 1  # Assume mb was used\n",
    "mag_ml = 0\n",
    "mag_md = 0\n",
    "mag_Other = 0\n",
    "\n",
    "# Cyclical time (example: June, 12 PM)\n",
    "month_sin = np.sin(2 * np.pi * 6 / 12)\n",
    "month_cos = np.cos(2 * np.pi * 6 / 12)\n",
    "hour_sin = np.sin(2 * np.pi * 12 / 24)\n",
    "hour_cos = np.cos(2 * np.pi * 12 / 24)\n",
    "\n",
    "# Region clustering (must use same KMeans logic as before)\n",
    "from sklearn.cluster import KMeans\n",
    "\n",
    "kmeans = KMeans(n_clusters=10, random_state=42, n_init=10)\n",
    "kmeans.fit(df_clean[['latitude', 'longitude']])  # Fit on full data\n",
    "region = kmeans.predict([[lat, log]])[0]\n",
    "\n",
    "# Create input DataFrame with correct column order\n",
    "input_data = pd.DataFrame([{\n",
    "    'latitude': lat,\n",
    "    'longitude': log,\n",
    "    'depth': depth,\n",
    "    'nst': nst,\n",
    "    'gap': gap,\n",
    "    'rms': rms,\n",
    "    'depthError': depthError,\n",
    "    'magNst': magNst,\n",
    "    'year': year,\n",
    "    'month_sin': month_sin,\n",
    "    'month_cos': month_cos,\n",
    "    'hour_sin': hour_sin,\n",
    "    'hour_cos': hour_cos,\n",
    "    'region': region,\n",
    "    'mag_mb': mag_mb,\n",
    "    'mag_ml': mag_ml,\n",
    "    'mag_md': mag_md,\n",
    "    'mag_Other': mag_Other\n",
    "}])\n",
    "\n",
    "# Ensure column order matches training\n",
    "input_data = input_data[X.columns]  # Reorder using original feature list\n",
    "\n",
    "# Predict!\n",
    "predicted_mag = model.predict(input_data)[0]\n",
    "print(f\"\\n📍 Earthquake at Lat={lat}, Lon={log}\")\n",
    "print(f\"💥 Predicted Magnitude: {predicted_mag:.2f}\")"
   ],
   "id": "ce431415e16ab42e",
   "outputs": [
    {
     "name": "stderr",
     "output_type": "stream",
     "text": [
      "/Users/alokawarnakula/PycharmProjects/AL-ML-Project/.venv1/lib/python3.12/site-packages/sklearn/utils/validation.py:2749: UserWarning: X does not have valid feature names, but KMeans was fitted with feature names\n",
      "  warnings.warn(\n"
     ]
    },
    {
     "name": "stdout",
     "output_type": "stream",
     "text": [
      "\n",
      "📍 Earthquake at Lat=43.773, Lon=147.321\n",
      "💥 Predicted Magnitude: 4.57\n"
     ]
    }
   ],
   "execution_count": 8
  },
  {
   "metadata": {
    "ExecuteTime": {
     "end_time": "2025-09-22T14:37:34.130196Z",
     "start_time": "2025-09-22T14:37:33.968375Z"
    }
   },
   "cell_type": "code",
   "source": [
    "## 🌍 10 Realistic Earthquake Samples: Actual vs Predicted\n",
    "import joblib\n",
    "import pandas as pd\n",
    "import numpy as np\n",
    "\n",
    "# Load your saved model (ensure path is correct)\n",
    "try:\n",
    "    model = model  # Use live model if available\n",
    "    print(\"✅ Using live trained model\")\n",
    "except:\n",
    "    model = joblib.load('best_earthquake_model.pkl')  # Fallback to saved file\n",
    "    print(\"✅ Loaded model from .pkl\")\n",
    "\n",
    "# Sample of real-looking earthquakes from cleaned dataset (simulated rows)\n",
    "samples = [\n",
    "    {\n",
    "        'latitude': 35.68, 'longitude': 139.68, 'depth': 30.0, 'nst': 45, 'gap': 80.0,\n",
    "        'rms': 0.8, 'depthError': 5.0, 'magNst': 30, 'year': 2011,\n",
    "        'month_sin': 0.5, 'month_cos': 0.866, 'hour_sin': 0.707, 'hour_cos': -0.707,\n",
    "        'region': 3, 'mag_mb': 1, 'mag_ml': 0, 'mag_md': 0, 'mag_Other': 0, 'mag': 4.8\n",
    "    },\n",
    "    {\n",
    "        'latitude': 27.8, 'longitude': 86.0, 'depth': 15.0, 'nst': 60, 'gap': 65.0,\n",
    "        'rms': 1.5, 'depthError': 3.0, 'magNst': 40, 'year': 2015,\n",
    "        'month_sin': 0.866, 'month_cos': 0.5, 'hour_sin': -0.707, 'hour_cos': 0.707,\n",
    "        'region': 7, 'mag_mb': 0, 'mag_ml': 1, 'mag_md': 0, 'mag_Other': 0, 'mag': 7.8\n",
    "    },\n",
    "    {\n",
    "        'latitude': 34.0, 'longitude': 74.0, 'depth': 10.0, 'nst': 30, 'gap': 150.0,\n",
    "        'rms': 2.0, 'depthError': 15.0, 'magNst': 20, 'year': 2023,\n",
    "        'month_sin': 0.259, 'month_cos': 0.966, 'hour_sin': 0.0, 'hour_cos': 1.0,\n",
    "        'region': 6, 'mag_mb': 1, 'mag_ml': 0, 'mag_md': 0, 'mag_Other': 0, 'mag': 5.2\n",
    "    },\n",
    "    {\n",
    "        'latitude': 38.0, 'longitude': 142.0, 'depth': 25.0, 'nst': 70, 'gap': 40.0,\n",
    "        'rms': 0.6, 'depthError': 4.0, 'magNst': 50, 'year': 2011,\n",
    "        'month_sin': -0.5, 'month_cos': 0.866, 'hour_sin': 0.966, 'hour_cos': -0.259,\n",
    "        'region': 2, 'mag_mb': 0, 'mag_ml': 0, 'mag_md': 0, 'mag_Other': 1, 'mag': 9.0\n",
    "    },\n",
    "    {\n",
    "        'latitude': 30.5, 'longitude': 65.0, 'depth': 200.0, 'nst': 25, 'gap': 100.0,\n",
    "        'rms': 0.9, 'depthError': 10.0, 'magNst': 15, 'year': 2022,\n",
    "        'month_sin': -0.866, 'month_cos': 0.5, 'hour_sin': -0.966, 'hour_cos': 0.259,\n",
    "        'region': 8, 'mag_mb': 1, 'mag_ml': 0, 'mag_md': 0, 'mag_Other': 0, 'mag': 5.5\n",
    "    },\n",
    "    {\n",
    "        'latitude': 40.0, 'longitude': 140.0, 'depth': 50.0, 'nst': 55, 'gap': 70.0,\n",
    "        'rms': 1.1, 'depthError': 6.0, 'magNst': 35, 'year': 2020,\n",
    "        'month_sin': 0.866, 'month_cos': 0.5, 'hour_sin': 0.259, 'hour_cos': 0.966,\n",
    "        'region': 1, 'mag_mb': 0, 'mag_ml': 0, 'mag_md': 1, 'mag_Other': 0, 'mag': 6.3\n",
    "    },\n",
    "    {\n",
    "        'latitude': 24.5, 'longitude': 93.0, 'depth': 35.0, 'nst': 40, 'gap': 90.0,\n",
    "        'rms': 1.3, 'depthError': 7.0, 'magNst': 25, 'year': 2017,\n",
    "        'month_sin': 0.5, 'month_cos': 0.866, 'hour_sin': -0.259, 'hour_cos': -0.966,\n",
    "        'region': 5, 'mag_mb': 0, 'mag_ml': 1, 'mag_md': 0, 'mag_Other': 0, 'mag': 5.8\n",
    "    },\n",
    "    {\n",
    "        'latitude': 36.0, 'longitude': 138.0, 'depth': 10.0, 'nst': 50, 'gap': 60.0,\n",
    "        'rms': 1.8, 'depthError': 4.0, 'magNst': 45, 'year': 2021,\n",
    "        'month_sin': 0.866, 'month_cos': 0.5, 'hour_sin': 0.707, 'hour_cos': -0.707,\n",
    "        'region': 4, 'mag_mb': 0, 'mag_ml': 1, 'mag_md': 0, 'mag_Other': 0, 'mag': 6.1\n",
    "    },\n",
    "    {\n",
    "        'latitude': 31.0, 'longitude': 78.0, 'depth': 18.0, 'nst': 35, 'gap': 120.0,\n",
    "        'rms': 1.6, 'depthError': 12.0, 'magNst': 22, 'year': 2023,\n",
    "        'month_sin': 0.259, 'month_cos': 0.966, 'hour_sin': 0.0, 'hour_cos': 1.0,\n",
    "        'region': 6, 'mag_mb': 1, 'mag_ml': 0, 'mag_md': 0, 'mag_Other': 0, 'mag': 4.9\n",
    "    },\n",
    "    {\n",
    "        'latitude': 37.5, 'longitude': 143.0, 'depth': 100.0, 'nst': 60, 'gap': 50.0,\n",
    "        'rms': 1.2, 'depthError': 8.0, 'magNst': 50, 'year': 2022,\n",
    "        'month_sin': 0.866, 'month_cos': 0.5, 'hour_sin': 0.5, 'hour_cos': -0.866,\n",
    "        'region': 2, 'mag_mb': 0, 'mag_ml': 0, 'mag_md': 1, 'mag_Other': 0, 'mag': 7.2\n",
    "    }\n",
    "]\n",
    "\n",
    "# Convert to DataFrame\n",
    "test_df = pd.DataFrame(samples)\n",
    "X_test = test_df.drop(columns=['mag'])\n",
    "y_true = test_df['mag'].values\n",
    "\n",
    "# Ensure column order matches training\n",
    "X_test = X_test[df_clean.drop(columns=['mag']).columns]\n",
    "\n",
    "# Predict\n",
    "y_pred = model.predict(X_test)\n",
    "\n",
    "# Print side-by-side comparison\n",
    "print(\"\\n🔍 Actual vs Predicted Magnitude (10 Historical Quake Examples)\")\n",
    "print(\"=\" * 65)\n",
    "print(f\"{'#':<2} {'Lat':<6} {'Lon':<7} {'Depth':<5} {'NST':<4} {'Actual':<7} {'Predicted':<10} {'Error':<6}\")\n",
    "print(\"-\" * 65)\n",
    "for i in range(len(y_true)):\n",
    "    error = abs(y_true[i] - y_pred[i])\n",
    "    print(f\"{i + 1:<2} \"\n",
    "          f\"{test_df.iloc[i]['latitude']:<6.2f} \"\n",
    "          f\"{test_df.iloc[i]['longitude']:<7.2f} \"\n",
    "          f\"{test_df.iloc[i]['depth']:<5.1f} \"\n",
    "          f\"{test_df.iloc[i]['nst']:<4.0f} \"\n",
    "          f\"{y_true[i]:<7.2f} \"\n",
    "          f\"{y_pred[i]:<10.2f} \"\n",
    "          f\"{error:<6.2f}\")"
   ],
   "id": "8ee401119fce4896",
   "outputs": [
    {
     "name": "stdout",
     "output_type": "stream",
     "text": [
      "✅ Using live trained model\n",
      "\n",
      "🔍 Actual vs Predicted Magnitude (10 Historical Quake Examples)\n",
      "=================================================================\n",
      "#  Lat    Lon     Depth NST  Actual  Predicted  Error \n",
      "-----------------------------------------------------------------\n",
      "1  35.68  139.68  30.0  45   4.80    4.89       0.09  \n",
      "2  27.80  86.00   15.0  60   7.80    3.96       3.84  \n",
      "3  34.00  74.00   10.0  30   5.20    4.28       0.92  \n",
      "4  38.00  142.00  25.0  70   9.00    5.18       3.82  \n",
      "5  30.50  65.00   200.0 25   5.50    4.04       1.46  \n",
      "6  40.00  140.00  50.0  55   6.30    3.74       2.56  \n",
      "7  24.50  93.00   35.0  40   5.80    3.74       2.06  \n",
      "8  36.00  138.00  10.0  50   6.10    3.96       2.14  \n",
      "9  31.00  78.00   18.0  35   4.90    4.28       0.62  \n",
      "10 37.50  143.00  100.0 60   7.20    3.74       3.46  \n"
     ]
    }
   ],
   "execution_count": 7
  }
 ],
 "metadata": {
  "kernelspec": {
   "display_name": "Python 3",
   "language": "python",
   "name": "python3"
  },
  "language_info": {
   "codemirror_mode": {
    "name": "ipython",
    "version": 2
   },
   "file_extension": ".py",
   "mimetype": "text/x-python",
   "name": "python",
   "nbconvert_exporter": "python",
   "pygments_lexer": "ipython2",
   "version": "2.7.6"
  }
 },
 "nbformat": 4,
 "nbformat_minor": 5
}
