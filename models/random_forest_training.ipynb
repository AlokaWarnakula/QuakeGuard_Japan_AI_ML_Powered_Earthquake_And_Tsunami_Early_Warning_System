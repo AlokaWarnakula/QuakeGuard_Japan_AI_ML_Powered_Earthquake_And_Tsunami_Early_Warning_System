{
 "cells": [
  {
   "metadata": {},
   "cell_type": "markdown",
   "source": "## Import Libraries",
   "id": "5c7a57a3d07e7b8c"
  },
  {
   "metadata": {
    "ExecuteTime": {
     "end_time": "2025-09-01T07:24:42.156012Z",
     "start_time": "2025-09-01T07:24:42.039671Z"
    }
   },
   "cell_type": "code",
   "source": [
    "import pandas as pd\n",
    "import numpy as np\n",
    "import matplotlib.pyplot as plt\n",
    "import seaborn as sns\n",
    "from sklearn.model_selection import train_test_split\n",
    "from sklearn.ensemble import RandomForestRegressor\n",
    "from sklearn.metrics import mean_absolute_error, mean_squared_error, r2_score\n",
    "import joblib\n",
    "import os"
   ],
   "id": "8ced4d32451d638f",
   "outputs": [],
   "execution_count": 42
  },
  {
   "metadata": {},
   "cell_type": "markdown",
   "source": "## Load Cleaned Data",
   "id": "96b280d28ab536fb"
  },
  {
   "cell_type": "code",
   "id": "initial_id",
   "metadata": {
    "collapsed": true,
    "ExecuteTime": {
     "end_time": "2025-09-01T07:24:44.045504Z",
     "start_time": "2025-09-01T07:24:43.974482Z"
    }
   },
   "source": [
    "df_clean = pd.read_csv('../data/cleaned/earthquake_japan_cleaned.csv')\n",
    "print(\"Data loaded successfully.\")\n",
    "print(df_clean.shape)"
   ],
   "outputs": [
    {
     "name": "stdout",
     "output_type": "stream",
     "text": [
      "Data loaded successfully.\n",
      "(33527, 17)\n"
     ]
    }
   ],
   "execution_count": 43
  },
  {
   "metadata": {
    "ExecuteTime": {
     "end_time": "2025-09-01T07:24:45.675221Z",
     "start_time": "2025-09-01T07:24:45.655248Z"
    }
   },
   "cell_type": "code",
   "source": "df_clean.head()",
   "id": "b2079bae5e4f571b",
   "outputs": [
    {
     "data": {
      "text/plain": [
       "   latitude  longitude  depth  mag   nst    gap  rms  depthError  magNst  \\\n",
       "0    36.417    140.568   67.9  4.8  32.0  122.6  1.2         6.5    12.0   \n",
       "1    35.457    141.272   10.0  4.3  32.0  122.6  1.1         6.9     1.0   \n",
       "2    36.342    141.408   55.1  4.4  32.0  122.6  1.1        11.8     4.0   \n",
       "3    32.381    138.821  247.7  5.2  32.0  122.6  0.9         3.6    10.0   \n",
       "4    36.123    144.047   33.0  4.3  32.0  122.6  1.1         6.9     1.0   \n",
       "\n",
       "   month  day  hour  depth_rms  data_quality_index  M_ML  M_Mb  M_Ms  \n",
       "0      1    1     9      81.48              147.12     0     1     0  \n",
       "1      1    3     8      11.00              134.86     0     1     0  \n",
       "2      1    4    12      60.61              134.86     0     1     0  \n",
       "3      1    4    23     222.93              110.34     0     0     0  \n",
       "4      1    5    20      36.30              134.86     0     1     0  "
      ],
      "text/html": [
       "<div>\n",
       "<style scoped>\n",
       "    .dataframe tbody tr th:only-of-type {\n",
       "        vertical-align: middle;\n",
       "    }\n",
       "\n",
       "    .dataframe tbody tr th {\n",
       "        vertical-align: top;\n",
       "    }\n",
       "\n",
       "    .dataframe thead th {\n",
       "        text-align: right;\n",
       "    }\n",
       "</style>\n",
       "<table border=\"1\" class=\"dataframe\">\n",
       "  <thead>\n",
       "    <tr style=\"text-align: right;\">\n",
       "      <th></th>\n",
       "      <th>latitude</th>\n",
       "      <th>longitude</th>\n",
       "      <th>depth</th>\n",
       "      <th>mag</th>\n",
       "      <th>nst</th>\n",
       "      <th>gap</th>\n",
       "      <th>rms</th>\n",
       "      <th>depthError</th>\n",
       "      <th>magNst</th>\n",
       "      <th>month</th>\n",
       "      <th>day</th>\n",
       "      <th>hour</th>\n",
       "      <th>depth_rms</th>\n",
       "      <th>data_quality_index</th>\n",
       "      <th>M_ML</th>\n",
       "      <th>M_Mb</th>\n",
       "      <th>M_Ms</th>\n",
       "    </tr>\n",
       "  </thead>\n",
       "  <tbody>\n",
       "    <tr>\n",
       "      <th>0</th>\n",
       "      <td>36.417</td>\n",
       "      <td>140.568</td>\n",
       "      <td>67.9</td>\n",
       "      <td>4.8</td>\n",
       "      <td>32.0</td>\n",
       "      <td>122.6</td>\n",
       "      <td>1.2</td>\n",
       "      <td>6.5</td>\n",
       "      <td>12.0</td>\n",
       "      <td>1</td>\n",
       "      <td>1</td>\n",
       "      <td>9</td>\n",
       "      <td>81.48</td>\n",
       "      <td>147.12</td>\n",
       "      <td>0</td>\n",
       "      <td>1</td>\n",
       "      <td>0</td>\n",
       "    </tr>\n",
       "    <tr>\n",
       "      <th>1</th>\n",
       "      <td>35.457</td>\n",
       "      <td>141.272</td>\n",
       "      <td>10.0</td>\n",
       "      <td>4.3</td>\n",
       "      <td>32.0</td>\n",
       "      <td>122.6</td>\n",
       "      <td>1.1</td>\n",
       "      <td>6.9</td>\n",
       "      <td>1.0</td>\n",
       "      <td>1</td>\n",
       "      <td>3</td>\n",
       "      <td>8</td>\n",
       "      <td>11.00</td>\n",
       "      <td>134.86</td>\n",
       "      <td>0</td>\n",
       "      <td>1</td>\n",
       "      <td>0</td>\n",
       "    </tr>\n",
       "    <tr>\n",
       "      <th>2</th>\n",
       "      <td>36.342</td>\n",
       "      <td>141.408</td>\n",
       "      <td>55.1</td>\n",
       "      <td>4.4</td>\n",
       "      <td>32.0</td>\n",
       "      <td>122.6</td>\n",
       "      <td>1.1</td>\n",
       "      <td>11.8</td>\n",
       "      <td>4.0</td>\n",
       "      <td>1</td>\n",
       "      <td>4</td>\n",
       "      <td>12</td>\n",
       "      <td>60.61</td>\n",
       "      <td>134.86</td>\n",
       "      <td>0</td>\n",
       "      <td>1</td>\n",
       "      <td>0</td>\n",
       "    </tr>\n",
       "    <tr>\n",
       "      <th>3</th>\n",
       "      <td>32.381</td>\n",
       "      <td>138.821</td>\n",
       "      <td>247.7</td>\n",
       "      <td>5.2</td>\n",
       "      <td>32.0</td>\n",
       "      <td>122.6</td>\n",
       "      <td>0.9</td>\n",
       "      <td>3.6</td>\n",
       "      <td>10.0</td>\n",
       "      <td>1</td>\n",
       "      <td>4</td>\n",
       "      <td>23</td>\n",
       "      <td>222.93</td>\n",
       "      <td>110.34</td>\n",
       "      <td>0</td>\n",
       "      <td>0</td>\n",
       "      <td>0</td>\n",
       "    </tr>\n",
       "    <tr>\n",
       "      <th>4</th>\n",
       "      <td>36.123</td>\n",
       "      <td>144.047</td>\n",
       "      <td>33.0</td>\n",
       "      <td>4.3</td>\n",
       "      <td>32.0</td>\n",
       "      <td>122.6</td>\n",
       "      <td>1.1</td>\n",
       "      <td>6.9</td>\n",
       "      <td>1.0</td>\n",
       "      <td>1</td>\n",
       "      <td>5</td>\n",
       "      <td>20</td>\n",
       "      <td>36.30</td>\n",
       "      <td>134.86</td>\n",
       "      <td>0</td>\n",
       "      <td>1</td>\n",
       "      <td>0</td>\n",
       "    </tr>\n",
       "  </tbody>\n",
       "</table>\n",
       "</div>"
      ]
     },
     "execution_count": 44,
     "metadata": {},
     "output_type": "execute_result"
    }
   ],
   "execution_count": 44
  },
  {
   "metadata": {},
   "cell_type": "markdown",
   "source": "## Define Features and Target\n",
   "id": "a501fcb0a37f2693"
  },
  {
   "metadata": {
    "ExecuteTime": {
     "end_time": "2025-09-01T07:24:59.070853Z",
     "start_time": "2025-09-01T07:24:59.037986Z"
    }
   },
   "cell_type": "code",
   "source": [
    "target = 'mag'\n",
    "X = df_clean.drop(columns=[target])\n",
    "y = df_clean[target]\n",
    "\n",
    "print(f\"Features (X): {X.shape[1]} columns\")\n",
    "print(f\"Target (y): {y.name}\")"
   ],
   "id": "1d845cff91665372",
   "outputs": [
    {
     "name": "stdout",
     "output_type": "stream",
     "text": [
      "Features (X): 16 columns\n",
      "Target (y): mag\n"
     ]
    }
   ],
   "execution_count": 45
  },
  {
   "metadata": {},
   "cell_type": "markdown",
   "source": "## Train/Test Split",
   "id": "efbbab12fc3d4951"
  },
  {
   "metadata": {
    "ExecuteTime": {
     "end_time": "2025-09-01T07:25:01.369842Z",
     "start_time": "2025-09-01T07:25:01.323471Z"
    }
   },
   "cell_type": "code",
   "source": [
    "\n",
    "X_train, X_test, y_train, y_test = train_test_split(\n",
    "    X, y,\n",
    "    test_size=0.2,\n",
    "    random_state=42\n",
    ")\n",
    "\n",
    "print(f\"Training set size: {X_train.shape[0]}\")\n",
    "print(f\"Test set size: {X_test.shape[0]}\")"
   ],
   "id": "9c6cc2f397660ca8",
   "outputs": [
    {
     "name": "stdout",
     "output_type": "stream",
     "text": [
      "Training set size: 26821\n",
      "Test set size: 6706\n"
     ]
    }
   ],
   "execution_count": 46
  },
  {
   "metadata": {},
   "cell_type": "markdown",
   "source": "## Train Random Forest Model",
   "id": "5b5a881f422e6de4"
  },
  {
   "metadata": {
    "ExecuteTime": {
     "end_time": "2025-09-01T07:31:20.519643Z",
     "start_time": "2025-09-01T07:25:05.684937Z"
    }
   },
   "cell_type": "code",
   "source": [
    "## Hyperparameter Tuning with RandomizedSearchCV\n",
    "from sklearn.model_selection import RandomizedSearchCV\n",
    "\n",
    "# Define parameter distribution\n",
    "param_dist = {\n",
    "    'n_estimators': [100, 200, 300],\n",
    "    'max_depth': [10, 15, 20, None],\n",
    "    'min_samples_split': [2, 5, 10, 15],\n",
    "    'min_samples_leaf': [1, 2, 4, 6],\n",
    "    'max_features': ['sqrt', 'log2', None],\n",
    "    'bootstrap': [True, False],\n",
    "    'max_samples': [0.8, 0.9, None]\n",
    "}\n",
    "\n",
    "# Base model\n",
    "rf = RandomForestRegressor(random_state=42, n_jobs=-1)\n",
    "\n",
    "# Random search with 5-fold cross-validation\n",
    "random_search = RandomizedSearchCV(\n",
    "    estimator=rf,\n",
    "    param_distributions=param_dist,\n",
    "    n_iter=30,\n",
    "    scoring='r2',\n",
    "    cv=5,\n",
    "    verbose=1,\n",
    "    n_jobs=-1,\n",
    "    random_state=42\n",
    ")\n",
    "\n",
    "random_search.fit(X_train, y_train)\n",
    "\n",
    "print(\"Best parameters found:\")\n",
    "print(random_search.best_params_)\n",
    "\n",
    "# Use the best model\n",
    "best_rf = random_search.best_estimator_\n"
   ],
   "id": "afa4bfe146880e92",
   "outputs": [
    {
     "name": "stdout",
     "output_type": "stream",
     "text": [
      "Fitting 5 folds for each of 30 candidates, totalling 150 fits\n"
     ]
    },
    {
     "name": "stderr",
     "output_type": "stream",
     "text": [
      "/Library/Frameworks/Python.framework/Versions/3.12/lib/python3.12/multiprocessing/queues.py:122: UserWarning: pkg_resources is deprecated as an API. See https://setuptools.pypa.io/en/latest/pkg_resources.html. The pkg_resources package is slated for removal as early as 2025-11-30. Refrain from using this package or pin to Setuptools<81.\n",
      "  return _ForkingPickler.loads(res)\n",
      "/Library/Frameworks/Python.framework/Versions/3.12/lib/python3.12/multiprocessing/queues.py:122: UserWarning: pkg_resources is deprecated as an API. See https://setuptools.pypa.io/en/latest/pkg_resources.html. The pkg_resources package is slated for removal as early as 2025-11-30. Refrain from using this package or pin to Setuptools<81.\n",
      "  return _ForkingPickler.loads(res)\n",
      "/Library/Frameworks/Python.framework/Versions/3.12/lib/python3.12/multiprocessing/queues.py:122: UserWarning: pkg_resources is deprecated as an API. See https://setuptools.pypa.io/en/latest/pkg_resources.html. The pkg_resources package is slated for removal as early as 2025-11-30. Refrain from using this package or pin to Setuptools<81.\n",
      "  return _ForkingPickler.loads(res)\n",
      "/Library/Frameworks/Python.framework/Versions/3.12/lib/python3.12/multiprocessing/queues.py:122: UserWarning: pkg_resources is deprecated as an API. See https://setuptools.pypa.io/en/latest/pkg_resources.html. The pkg_resources package is slated for removal as early as 2025-11-30. Refrain from using this package or pin to Setuptools<81.\n",
      "  return _ForkingPickler.loads(res)\n",
      "/Library/Frameworks/Python.framework/Versions/3.12/lib/python3.12/multiprocessing/queues.py:122: UserWarning: pkg_resources is deprecated as an API. See https://setuptools.pypa.io/en/latest/pkg_resources.html. The pkg_resources package is slated for removal as early as 2025-11-30. Refrain from using this package or pin to Setuptools<81.\n",
      "  return _ForkingPickler.loads(res)\n",
      "/Library/Frameworks/Python.framework/Versions/3.12/lib/python3.12/multiprocessing/queues.py:122: UserWarning: pkg_resources is deprecated as an API. See https://setuptools.pypa.io/en/latest/pkg_resources.html. The pkg_resources package is slated for removal as early as 2025-11-30. Refrain from using this package or pin to Setuptools<81.\n",
      "  return _ForkingPickler.loads(res)\n",
      "/Library/Frameworks/Python.framework/Versions/3.12/lib/python3.12/multiprocessing/queues.py:122: UserWarning: pkg_resources is deprecated as an API. See https://setuptools.pypa.io/en/latest/pkg_resources.html. The pkg_resources package is slated for removal as early as 2025-11-30. Refrain from using this package or pin to Setuptools<81.\n",
      "  return _ForkingPickler.loads(res)\n",
      "/Library/Frameworks/Python.framework/Versions/3.12/lib/python3.12/multiprocessing/queues.py:122: UserWarning: pkg_resources is deprecated as an API. See https://setuptools.pypa.io/en/latest/pkg_resources.html. The pkg_resources package is slated for removal as early as 2025-11-30. Refrain from using this package or pin to Setuptools<81.\n",
      "  return _ForkingPickler.loads(res)\n",
      "/Users/alokawarnakula/PycharmProjects/AL-ML-Project/.venv1/lib/python3.12/site-packages/sklearn/model_selection/_validation.py:516: FitFailedWarning: \n",
      "45 fits failed out of a total of 150.\n",
      "The score on these train-test partitions for these parameters will be set to nan.\n",
      "If these failures are not expected, you can try to debug them by setting error_score='raise'.\n",
      "\n",
      "Below are more details about the failures:\n",
      "--------------------------------------------------------------------------------\n",
      "45 fits failed with the following error:\n",
      "Traceback (most recent call last):\n",
      "  File \"/Users/alokawarnakula/PycharmProjects/AL-ML-Project/.venv1/lib/python3.12/site-packages/sklearn/model_selection/_validation.py\", line 859, in _fit_and_score\n",
      "    estimator.fit(X_train, y_train, **fit_params)\n",
      "  File \"/Users/alokawarnakula/PycharmProjects/AL-ML-Project/.venv1/lib/python3.12/site-packages/sklearn/base.py\", line 1365, in wrapper\n",
      "    return fit_method(estimator, *args, **kwargs)\n",
      "           ^^^^^^^^^^^^^^^^^^^^^^^^^^^^^^^^^^^^^^\n",
      "  File \"/Users/alokawarnakula/PycharmProjects/AL-ML-Project/.venv1/lib/python3.12/site-packages/sklearn/ensemble/_forest.py\", line 430, in fit\n",
      "    raise ValueError(\n",
      "ValueError: `max_sample` cannot be set if `bootstrap=False`. Either switch to `bootstrap=True` or set `max_sample=None`.\n",
      "\n",
      "  warnings.warn(some_fits_failed_message, FitFailedWarning)\n",
      "/Users/alokawarnakula/PycharmProjects/AL-ML-Project/.venv1/lib/python3.12/site-packages/sklearn/model_selection/_search.py:1135: UserWarning: One or more of the test scores are non-finite: [       nan 0.733452   0.73423816 0.73157565 0.72438238        nan\n",
      " 0.73267383        nan 0.72312469 0.73436454 0.72141557 0.72385837\n",
      " 0.66217233 0.60971077        nan        nan 0.69358584 0.73381392\n",
      "        nan 0.73310201        nan 0.72871274 0.73556006 0.72986124\n",
      " 0.73365928 0.72608355        nan 0.73545401 0.72412779        nan]\n",
      "  warnings.warn(\n"
     ]
    },
    {
     "name": "stdout",
     "output_type": "stream",
     "text": [
      "Best parameters found:\n",
      "{'n_estimators': 100, 'min_samples_split': 15, 'min_samples_leaf': 2, 'max_samples': None, 'max_features': 'log2', 'max_depth': 20, 'bootstrap': False}\n"
     ]
    }
   ],
   "execution_count": 47
  },
  {
   "metadata": {},
   "cell_type": "markdown",
   "source": "## Make Predictions",
   "id": "c1a2b45da31dbe86"
  },
  {
   "metadata": {
    "ExecuteTime": {
     "end_time": "2025-09-01T07:31:38.055531Z",
     "start_time": "2025-09-01T07:31:37.875441Z"
    }
   },
   "cell_type": "code",
   "source": [
    "y_pred = best_rf.predict(X_test)\n",
    "\n",
    "comparison = pd.DataFrame({\n",
    "    'Actual': y_test.values[:100],\n",
    "    'Predicted': y_pred[:100]\n",
    "})\n",
    "\n",
    "print(comparison)"
   ],
   "id": "e09f27fb1b203ace",
   "outputs": [
    {
     "name": "stdout",
     "output_type": "stream",
     "text": [
      "    Actual  Predicted\n",
      "0      5.2   5.378964\n",
      "1      5.6   5.778919\n",
      "2      4.0   4.290203\n",
      "3      4.9   4.765513\n",
      "4      5.0   4.761948\n",
      "..     ...        ...\n",
      "95     4.5   4.542501\n",
      "96     4.5   4.357053\n",
      "97     4.6   4.522311\n",
      "98     3.3   4.072816\n",
      "99     4.5   4.255816\n",
      "\n",
      "[100 rows x 2 columns]\n"
     ]
    }
   ],
   "execution_count": 48
  },
  {
   "metadata": {},
   "cell_type": "markdown",
   "source": "## Evaluate the Model",
   "id": "7164a315c1cc86e3"
  },
  {
   "metadata": {
    "ExecuteTime": {
     "end_time": "2025-09-01T07:42:41.900221Z",
     "start_time": "2025-09-01T07:42:40.603953Z"
    }
   },
   "cell_type": "code",
   "source": [
    "mae = mean_absolute_error(y_test, y_pred)\n",
    "rmse = np.sqrt(mean_squared_error(y_test, y_pred))\n",
    "r2 = r2_score(y_test, y_pred)\n",
    "\n",
    "print(\"Random Forest - Performance Metrics\")\n",
    "print(f\"  MAE  : {mae:.3f}\")\n",
    "print(f\"  RMSE : {rmse:.3f}\")\n",
    "print(f\"  R²   : {r2:.3f}\")\n",
    "\n",
    "# Plot predicted vs actual\n",
    "plt.figure(figsize=(8, 6))\n",
    "plt.scatter(y_test, y_pred, alpha=0.6)\n",
    "plt.plot([y.min(), y.max()], [y.min(), y.max()], 'r--', lw=2)\n",
    "plt.xlabel('Actual Magnitude')\n",
    "plt.ylabel('Predicted Magnitude')\n",
    "plt.title('Actual vs Predicted Magnitude (Random Forest)')\n",
    "plt.grid(True, alpha=0.3)\n",
    "plt.tight_layout()\n",
    "plt.savefig('../plots/rf_actual_vs_predicted.png', dpi=300)\n",
    "plt.show()"
   ],
   "id": "ae272d8b2f9449e9",
   "outputs": [
    {
     "name": "stdout",
     "output_type": "stream",
     "text": [
      "Random Forest - Performance Metrics\n",
      "  MAE  : 0.175\n",
      "  RMSE : 0.236\n",
      "  R²   : 0.737\n"
     ]
    },
    {
     "data": {
      "text/plain": [
       "<Figure size 800x600 with 1 Axes>"
      ],
      "image/png": "[encoded data removed]"
     },
     "metadata": {},
     "output_type": "display_data"
    }
   ],
   "execution_count": 56
  },
  {
   "metadata": {},
   "cell_type": "markdown",
   "source": "## Feature Importance",
   "id": "7c7bdeec6585174b"
  },
  {
   "metadata": {
    "ExecuteTime": {
     "end_time": "2025-09-01T07:33:27.472904Z",
     "start_time": "2025-09-01T07:33:27.176335Z"
    }
   },
   "cell_type": "code",
   "source": [
    "importance_df = pd.DataFrame({\n",
    "    'feature': X.columns,\n",
    "    'importance': best_rf.feature_importances_\n",
    "}).sort_values('importance', ascending=False)\n",
    "\n",
    "# Show top 10\n",
    "print(\"🔝 Top 10 Most Important Features:\")\n",
    "print(importance_df.head(20))\n",
    "\n",
    "# Plot\n",
    "plt.figure(figsize=(8, 6))\n",
    "sns.barplot(data=importance_df.head(10), x='importance', y='feature')\n",
    "plt.title('Top 10 Feature Importances (Random Forest)')\n",
    "plt.xlabel('Importance')\n",
    "plt.tight_layout()\n",
    "plt.savefig('../plots/rf_feature_importance.png', dpi=300)\n",
    "plt.show()\n",
    "\n",
    "# Save importance to CSV\n",
    "importance_df.to_csv('../outputs/rf_feature_importance.csv', index=False)"
   ],
   "id": "9aee5118d0ce505a",
   "outputs": [
    {
     "name": "stdout",
     "output_type": "stream",
     "text": [
      "🔝 Top 10 Most Important Features:\n",
      "               feature  importance\n",
      "3                  nst    0.272269\n",
      "7               magNst    0.176812\n",
      "4                  gap    0.157399\n",
      "14                M_Mb    0.068607\n",
      "12  data_quality_index    0.064046\n",
      "2                depth    0.050135\n",
      "6           depthError    0.046094\n",
      "11           depth_rms    0.040639\n",
      "5                  rms    0.030403\n",
      "1            longitude    0.025777\n",
      "0             latitude    0.023952\n",
      "8                month    0.013936\n",
      "9                  day    0.012973\n",
      "10                hour    0.011576\n",
      "15                M_Ms    0.003129\n",
      "13                M_ML    0.002254\n"
     ]
    },
    {
     "data": {
      "text/plain": [
       "<Figure size 800x600 with 1 Axes>"
      ],
      "image/png": "[encoded data removed]"
     },
     "metadata": {},
     "output_type": "display_data"
    }
   ],
   "execution_count": 52
  },
  {
   "metadata": {},
   "cell_type": "markdown",
   "source": "## Save the Trained Model",
   "id": "7c17f186d49b1afa"
  },
  {
   "metadata": {
    "ExecuteTime": {
     "end_time": "2025-09-01T07:44:56.861837Z",
     "start_time": "2025-09-01T07:44:56.720935Z"
    }
   },
   "cell_type": "code",
   "source": [
    "y# Ensure directory exists\n",
    "os.makedirs('../models', exist_ok=True)\n",
    "\n",
    "# Save model\n",
    "joblib.dump(rf_model, '../models/rf_earthquake_model.pkl')\n",
    "\n",
    "print(\"Model saved to '../models/rf_earthquake_model.pkl'\")"
   ],
   "id": "2df43f79cc74e604",
   "outputs": [
    {
     "name": "stdout",
     "output_type": "stream",
     "text": [
      "Model saved to '../models/rf_earthquake_model.pkl'\n"
     ]
    }
   ],
   "execution_count": 58
  },
  {
   "metadata": {},
   "cell_type": "markdown",
   "source": "## Test Cases: this is exatra parts",
   "id": "3f3f8a8d32d82de5"
  },
  {
   "metadata": {
    "ExecuteTime": {
     "end_time": "2025-09-01T08:01:22.899831Z",
     "start_time": "2025-09-01T08:01:22.731274Z"
    }
   },
   "cell_type": "code",
   "source": [
    "# # Debug: What did the model learn?\n",
    "# print(\"Features used during training (in order):\")\n",
    "# print(list(X_train.columns))"
   ],
   "id": "446abfb65f95e17c",
   "outputs": [
    {
     "name": "stdout",
     "output_type": "stream",
     "text": [
      "Features used during training (in order):\n",
      "['latitude', 'longitude', 'depth', 'nst', 'gap', 'rms', 'depthError', 'magNst', 'month', 'day', 'hour', 'depth_rms', 'data_quality_index', 'M_ML', 'M_Mb', 'M_Ms']\n"
     ]
    }
   ],
   "execution_count": 61
  },
  {
   "metadata": {
    "ExecuteTime": {
     "end_time": "2025-09-01T08:04:37.363743Z",
     "start_time": "2025-09-01T08:04:37.258336Z"
    }
   },
   "cell_type": "code",
   "source": [
    "# ## 🔎 Extended Test: 5 Realistic Japan Earthquakes\n",
    "# # Define more test cases across Japan\n",
    "# test_cases = pd.DataFrame([\n",
    "#     # 1. Shallow inland (Kansai region) - likely moderate quake\n",
    "#     {\n",
    "#         'latitude': 34.7, 'longitude': 135.5,  # Osaka area\n",
    "#         'depth': 8.0, 'rms': 0.25, 'gap': 40, 'nst': 30, 'magNst': 35,\n",
    "#         'depthError': 0.9, 'month': 5, 'day': 12, 'hour': 9,\n",
    "#         'M_ML': 0, 'M_Mb': 0, 'M_Ms': 0  # M (moment)\n",
    "#     },\n",
    "#     # 2. Deep subduction (Tohoku offshore) - large potential\n",
    "#     {\n",
    "#         'latitude': 38.5, 'longitude': 143.0,  # Near Japan Trench\n",
    "#         'depth': 60.0, 'rms': 0.7, 'gap': 70, 'nst': 20, 'magNst': 25,\n",
    "#         'depthError': 2.5, 'month': 3, 'day': 11, 'hour': 14,\n",
    "#         'M_ML': 0, 'M_Mb': 0, 'M_Ms': 1  # Ms type\n",
    "#     },\n",
    "#     # 3. Very deep (Izu-Bonin arc)\n",
    "#     {\n",
    "#         'latitude': 30.0, 'longitude': 140.0,  # South of Tokyo\n",
    "#         'depth': 300.0, 'rms': 1.5, 'gap': 120, 'nst': 10, 'magNst': 12,\n",
    "#         'depthError': 8.0, 'month': 8, 'day': 20, 'hour': 22,\n",
    "#         'M_ML': 1, 'M_Mb': 0, 'M_Ms': 0  # ML type\n",
    "#     },\n",
    "#     # 4. Shallow, high-quality (Kanto/Tokyo area)\n",
    "#     {\n",
    "#         'latitude': 35.6, 'longitude': 139.7,\n",
    "#         'depth': 12.0, 'rms': 0.15, 'gap': 35, 'nst': 40, 'magNst': 50,\n",
    "#         'depthError': 0.7, 'month': 1, 'day': 15, 'hour': 10,\n",
    "#         'M_ML': 0, 'M_Mb': 0, 'M_Ms': 0\n",
    "#     },\n",
    "#     # 5. Moderate, poor data (remote area)\n",
    "#     {\n",
    "#         'latitude': 43.0, 'longitude': 141.0,  # Hokkaido\n",
    "#         'depth': 25.0, 'rms': 2.0, 'gap': 180, 'nst': 6, 'magNst': 8,\n",
    "#         'depthError': 6.0, 'month': 12, 'day': 5, 'hour': 3,\n",
    "#         'M_ML': 0, 'M_Mb': 1, 'M_Ms': 0  # Mb type\n",
    "#     }\n",
    "# ])\n",
    "#\n",
    "# # Add engineered features\n",
    "# test_cases['depth_rms'] = test_cases['depth'] * test_cases['rms']\n",
    "# test_cases['data_quality_index'] = test_cases['rms'] * test_cases['gap']\n",
    "#\n",
    "# # Use exact training feature order\n",
    "# feature_columns = list(X_train.columns)\n",
    "# X_test = test_cases[feature_columns]\n",
    "#\n",
    "# # Predict\n",
    "# y_pred = best_rf.predict(X_test)\n",
    "# test_cases['predicted_mag'] = y_pred\n",
    "#\n",
    "# # Show results\n",
    "# print(\"📍 Predictions for 5 Japan Earthquake Scenarios\")\n",
    "# print(\"================================================\")\n",
    "# print(test_cases[['latitude', 'longitude', 'depth', 'rms', 'nst', 'predicted_mag']].round(2))"
   ],
   "id": "e7489e6c81f7fbf9",
   "outputs": [
    {
     "name": "stdout",
     "output_type": "stream",
     "text": [
      "📍 Predictions for 5 Japan Earthquake Scenarios\n",
      "================================================\n",
      "   latitude  longitude  depth   rms  nst  predicted_mag\n",
      "0      34.7      135.5    8.0  0.25   30           5.14\n",
      "1      38.5      143.0   60.0  0.70   20           4.63\n",
      "2      30.0      140.0  300.0  1.50   10           3.92\n",
      "3      35.6      139.7   12.0  0.15   40           5.52\n",
      "4      43.0      141.0   25.0  2.00    6           4.16\n"
     ]
    }
   ],
   "execution_count": 64
  },
  {
   "metadata": {
    "ExecuteTime": {
     "end_time": "2025-09-01T08:07:45.971423Z",
     "start_time": "2025-09-01T08:07:44.998220Z"
    }
   },
   "cell_type": "code",
   "source": [
    "# import matplotlib.pyplot as plt\n",
    "#\n",
    "# plt.figure(figsize=(10, 8))\n",
    "# scatter = plt.scatter(test_cases['longitude'], test_cases['latitude'],\n",
    "#                       c=test_cases['predicted_mag'], s=100, cmap='rainbow', alpha=0.8)\n",
    "# plt.colorbar(scatter, label='Predicted Magnitude')\n",
    "# plt.xlabel('Longitude')\n",
    "# plt.ylabel('Latitude')\n",
    "# plt.title('Predicted Magnitude Across Japan')\n",
    "# for i, row in test_cases.iterrows():\n",
    "#     plt.annotate(f\"{row['predicted_mag']:.2f}\",\n",
    "#                  (row['longitude'], row['latitude']),\n",
    "#                  textcoords=\"offset points\", xytext=(0,10), ha='center', fontsize=9)\n",
    "# plt.tight_layout()\n",
    "# plt.savefig('../plots/japan_magnitude_predictions.png', dpi=300)\n",
    "# plt.show()"
   ],
   "id": "5a8ec36cdb6dc620",
   "outputs": [
    {
     "data": {
      "text/plain": [
       "<Figure size 1000x800 with 2 Axes>"
      ],
      "image/png": "[encoded data removed]"
     },
     "metadata": {},
     "output_type": "display_data"
    }
   ],
   "execution_count": 65
  },
  {
   "metadata": {
    "ExecuteTime": {
     "end_time": "2025-09-01T08:09:18.121791Z",
     "start_time": "2025-09-01T08:09:17.954886Z"
    }
   },
   "cell_type": "code",
   "source": [
    "# ## 🔎 Extended Test: 6 Realistic Japan Earthquakes (Including 2011 Tohoku)\n",
    "# # Define test cases\n",
    "# test_cases = pd.DataFrame([\n",
    "#     # 1. Shallow inland (Kansai region)\n",
    "#     {\n",
    "#         'latitude': 34.7, 'longitude': 135.5,\n",
    "#         'depth': 8.0, 'rms': 0.25, 'gap': 40, 'nst': 30, 'magNst': 35,\n",
    "#         'depthError': 0.9, 'month': 5, 'day': 12, 'hour': 9,\n",
    "#         'M_ML': 0, 'M_Mb': 0, 'M_Ms': 0\n",
    "#     },\n",
    "#     # 2. Deep subduction (Tohoku offshore)\n",
    "#     {\n",
    "#         'latitude': 38.5, 'longitude': 143.0,\n",
    "#         'depth': 60.0, 'rms': 0.7, 'gap': 70, 'nst': 20, 'magNst': 25,\n",
    "#         'depthError': 2.5, 'month': 3, 'day': 11, 'hour': 14,\n",
    "#         'M_ML': 0, 'M_Mb': 0, 'M_Ms': 1\n",
    "#     },\n",
    "#     # 3. Very deep (Izu-Bonin arc)\n",
    "#     {\n",
    "#         'latitude': 30.0, 'longitude': 140.0,\n",
    "#         'depth': 300.0, 'rms': 1.5, 'gap': 120, 'nst': 10, 'magNst': 12,\n",
    "#         'depthError': 8.0, 'month': 8, 'day': 20, 'hour': 22,\n",
    "#         'M_ML': 1, 'M_Mb': 0, 'M_Ms': 0\n",
    "#     },\n",
    "#     # 4. Shallow, high-quality (Tokyo area)\n",
    "#     {\n",
    "#         'latitude': 35.6, 'longitude': 139.7,\n",
    "#         'depth': 12.0, 'rms': 0.15, 'gap': 35, 'nst': 40, 'magNst': 50,\n",
    "#         'depthError': 0.7, 'month': 1, 'day': 15, 'hour': 10,\n",
    "#         'M_ML': 0, 'M_Mb': 0, 'M_Ms': 0\n",
    "#     },\n",
    "#     # 5. Moderate, poor data (Hokkaido)\n",
    "#     {\n",
    "#         'latitude': 43.0, 'longitude': 141.0,\n",
    "#         'depth': 25.0, 'rms': 2.0, 'gap': 180, 'nst': 6, 'magNst': 8,\n",
    "#         'depthError': 6.0, 'month': 12, 'day': 5, 'hour': 3,\n",
    "#         'M_ML': 0, 'M_Mb': 1, 'M_Ms': 0\n",
    "#     },\n",
    "#     # 6. 🌊 2011 Tohoku Earthquake (Realistic Simulation)\n",
    "#     {\n",
    "#         'latitude': 38.3, 'longitude': 142.4,  # Epicenter near Honshu east coast\n",
    "#         'depth': 24.0, 'rms': 0.35, 'gap': 20, 'nst': 120, 'magNst': 150,\n",
    "#         'depthError': 1.0, 'month': 3, 'day': 11, 'hour': 14,\n",
    "#         'M_ML': 0, 'M_Mb': 0, 'M_Ms': 0  # Moment magnitude (Mw) → M group\n",
    "#     }\n",
    "# ])\n",
    "#\n",
    "# # Add engineered features\n",
    "# test_cases['depth_rms'] = test_cases['depth'] * test_cases['rms']\n",
    "# test_cases['data_quality_index'] = test_cases['rms'] * test_cases['gap']\n",
    "#\n",
    "# # Use exact training feature order\n",
    "# feature_columns = list(X_train.columns)\n",
    "# X_test = test_cases[feature_columns]\n",
    "#\n",
    "# # Predict\n",
    "# y_pred = best_rf.predict(X_test)\n",
    "# test_cases['predicted_mag'] = y_pred\n",
    "#\n",
    "# # Show results\n",
    "# print(\"📍 Predictions for 6 Japan Earthquake Scenarios (Including 2011 Tohoku)\")\n",
    "# print(\"=====================================================================\")\n",
    "# print(test_cases[['latitude', 'longitude', 'depth', 'rms', 'nst', 'predicted_mag']].round(2))"
   ],
   "id": "b1efe6f8818cd403",
   "outputs": [
    {
     "name": "stdout",
     "output_type": "stream",
     "text": [
      "📍 Predictions for 6 Japan Earthquake Scenarios (Including 2011 Tohoku)\n",
      "=====================================================================\n",
      "   latitude  longitude  depth   rms  nst  predicted_mag\n",
      "0      34.7      135.5    8.0  0.25   30           5.14\n",
      "1      38.5      143.0   60.0  0.70   20           4.63\n",
      "2      30.0      140.0  300.0  1.50   10           3.92\n",
      "3      35.6      139.7   12.0  0.15   40           5.52\n",
      "4      43.0      141.0   25.0  2.00    6           4.16\n",
      "5      38.3      142.4   24.0  0.35  120           5.75\n"
     ]
    }
   ],
   "execution_count": 66
  },
  {
   "metadata": {
    "ExecuteTime": {
     "end_time": "2025-09-01T08:17:33.789216Z",
     "start_time": "2025-09-01T08:17:33.491826Z"
    }
   },
   "cell_type": "code",
   "source": [
    "# # Extract the actual Tohoku row\n",
    "# tohoku_row = df_clean[df_clean['mag'] == 9.1].copy()\n",
    "#\n",
    "# # Add engineered features\n",
    "# tohoku_row['depth_rms'] = tohoku_row['depth'] * tohoku_row['rms']\n",
    "# tohoku_row['data_quality_index'] = tohoku_row['rms'] * tohoku_row['gap']\n",
    "#\n",
    "# # Select only the features used in training\n",
    "# X_tohoku = tohoku_row[X_train.columns]  # Match training columns\n",
    "#\n",
    "# # Predict what the model thinks the magnitude should be\n",
    "# predicted_for_actual = best_rf.predict(X_tohoku)[0]\n",
    "#\n",
    "# print(f\"🎯 Actual magnitude: 9.10\")\n",
    "# print(f\"📉 Model's prediction for the *actual* Tohoku quake: {predicted_for_actual:.2f}\")"
   ],
   "id": "99612598fea46efa",
   "outputs": [
    {
     "name": "stdout",
     "output_type": "stream",
     "text": [
      "🎯 Actual magnitude: 9.10\n",
      "📉 Model's prediction for the *actual* Tohoku quake: 7.46\n"
     ]
    }
   ],
   "execution_count": 69
  },
  {
   "metadata": {
    "ExecuteTime": {
     "end_time": "2025-09-01T08:18:34.737098Z",
     "start_time": "2025-09-01T08:18:33.028250Z"
    }
   },
   "cell_type": "code",
   "source": [
    "# from xgboost import XGBRegressor\n",
    "#\n",
    "# xgb = XGBRegressor(\n",
    "#     n_estimators=300,\n",
    "#     max_depth=8,\n",
    "#     learning_rate=0.05,\n",
    "#     subsample=0.9,\n",
    "#     colsample_bytree=0.8,\n",
    "#     random_state=42\n",
    "# )\n",
    "#\n",
    "# xgb.fit(X_train, y_train)\n",
    "#\n",
    "# # Predict for actual Tohoku\n",
    "# xgb_pred = xgb.predict(X_tohoku)[0]\n",
    "# print(f\"XGBoost prediction for actual Tohoku: {xgb_pred:.2f}\")"
   ],
   "id": "3c5c61ed40e14d07",
   "outputs": [
    {
     "name": "stdout",
     "output_type": "stream",
     "text": [
      "XGBoost prediction for actual Tohoku: 8.83\n"
     ]
    }
   ],
   "execution_count": 70
  }
 ],
 "metadata": {
  "kernelspec": {
   "display_name": "Python 3",
   "language": "python",
   "name": "python3"
  },
  "language_info": {
   "codemirror_mode": {
    "name": "ipython",
    "version": 2
   },
   "file_extension": ".py",
   "mimetype": "text/x-python",
   "name": "python",
   "nbconvert_exporter": "python",
   "pygments_lexer": "ipython2",
   "version": "2.7.6"
  }
 },
 "nbformat": 4,
 "nbformat_minor": 5
}
