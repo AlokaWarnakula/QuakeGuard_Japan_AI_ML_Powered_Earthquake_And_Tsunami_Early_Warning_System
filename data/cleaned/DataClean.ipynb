{
 "cells": [
  {
   "metadata": {},
   "cell_type": "markdown",
   "source": "## Library import",
   "id": "4bd5daef7bbd248b"
  },
  {
   "metadata": {
    "ExecuteTime": {
     "end_time": "2025-09-24T12:32:33.766489Z",
     "start_time": "2025-09-24T12:32:31.316735Z"
    }
   },
   "cell_type": "code",
   "source": [
    "import pandas as pd\n",
    "import numpy as np\n",
    "import matplotlib.pyplot as plt\n",
    "import seaborn as sns\n",
    "from sklearn.cluster import KMeans"
   ],
   "id": "f5fadbd9a3663ef5",
   "outputs": [],
   "execution_count": 2
  },
  {
   "metadata": {},
   "cell_type": "markdown",
   "source": "## Import data set",
   "id": "c9dabaaa69a980d4"
  },
  {
   "metadata": {
    "ExecuteTime": {
     "end_time": "2025-09-24T12:34:56.534309Z",
     "start_time": "2025-09-24T12:34:56.387687Z"
    }
   },
   "cell_type": "code",
   "source": [
    "df = pd.read_csv('../raw/earthquick/unClean/japan_earthquakes_combined_filtered.csv')\n",
    "df.head()"
   ],
   "id": "b9a20af5e515a7e4",
   "outputs": [
    {
     "data": {
      "text/plain": [
       "                       time  latitude  longitude  depth  mag magType  nst  \\\n",
       "0  1995-12-30T23:19:36.080Z    27.958    130.181   23.4  3.4      mb  NaN   \n",
       "1  1995-12-30T20:45:14.190Z    40.831    143.190   30.1  5.7      mw  NaN   \n",
       "2  1995-12-30T16:15:33.090Z    31.025    140.136  116.9  5.3      mw  NaN   \n",
       "3  1995-12-30T12:23:13.400Z    25.576    124.919   33.0  5.4      mb  NaN   \n",
       "4  1995-12-30T12:17:37.040Z    40.745    143.232   33.0  5.7      mb  NaN   \n",
       "\n",
       "   gap  dmin  rms  ...                   updated  \\\n",
       "0  NaN   NaN  1.0  ...  2014-11-07T00:59:31.074Z   \n",
       "1  NaN   NaN  1.0  ...  2022-04-29T19:51:40.841Z   \n",
       "2  NaN   NaN  0.9  ...  2016-11-10T00:19:51.375Z   \n",
       "3  NaN   NaN  1.3  ...  2014-11-07T00:59:30.960Z   \n",
       "4  NaN   NaN  1.1  ...  2022-04-29T19:51:39.284Z   \n",
       "\n",
       "                                 place        type horizontalError depthError  \\\n",
       "0             82 km ESE of Naze, Japan  earthquake             NaN        9.9   \n",
       "1  off the east coast of Honshu, Japan  earthquake             NaN        NaN   \n",
       "2            Izu Islands, Japan region  earthquake             NaN        NaN   \n",
       "3                  northeast of Taiwan  earthquake             NaN        NaN   \n",
       "4  off the east coast of Honshu, Japan  earthquake             NaN        NaN   \n",
       "\n",
       "   magError  magNst    status  locationSource magSource  \n",
       "0       NaN     2.0  reviewed              us        us  \n",
       "1       NaN     NaN  reviewed              us       hrv  \n",
       "2       NaN     NaN  reviewed              us       hrv  \n",
       "3       NaN    27.0  reviewed              us        us  \n",
       "4       NaN   104.0  reviewed              us        us  \n",
       "\n",
       "[5 rows x 22 columns]"
      ],
      "text/html": [
       "<div>\n",
       "<style scoped>\n",
       "    .dataframe tbody tr th:only-of-type {\n",
       "        vertical-align: middle;\n",
       "    }\n",
       "\n",
       "    .dataframe tbody tr th {\n",
       "        vertical-align: top;\n",
       "    }\n",
       "\n",
       "    .dataframe thead th {\n",
       "        text-align: right;\n",
       "    }\n",
       "</style>\n",
       "<table border=\"1\" class=\"dataframe\">\n",
       "  <thead>\n",
       "    <tr style=\"text-align: right;\">\n",
       "      <th></th>\n",
       "      <th>time</th>\n",
       "      <th>latitude</th>\n",
       "      <th>longitude</th>\n",
       "      <th>depth</th>\n",
       "      <th>mag</th>\n",
       "      <th>magType</th>\n",
       "      <th>nst</th>\n",
       "      <th>gap</th>\n",
       "      <th>dmin</th>\n",
       "      <th>rms</th>\n",
       "      <th>...</th>\n",
       "      <th>updated</th>\n",
       "      <th>place</th>\n",
       "      <th>type</th>\n",
       "      <th>horizontalError</th>\n",
       "      <th>depthError</th>\n",
       "      <th>magError</th>\n",
       "      <th>magNst</th>\n",
       "      <th>status</th>\n",
       "      <th>locationSource</th>\n",
       "      <th>magSource</th>\n",
       "    </tr>\n",
       "  </thead>\n",
       "  <tbody>\n",
       "    <tr>\n",
       "      <th>0</th>\n",
       "      <td>1995-12-30T23:19:36.080Z</td>\n",
       "      <td>27.958</td>\n",
       "      <td>130.181</td>\n",
       "      <td>23.4</td>\n",
       "      <td>3.4</td>\n",
       "      <td>mb</td>\n",
       "      <td>NaN</td>\n",
       "      <td>NaN</td>\n",
       "      <td>NaN</td>\n",
       "      <td>1.0</td>\n",
       "      <td>...</td>\n",
       "      <td>2014-11-07T00:59:31.074Z</td>\n",
       "      <td>82 km ESE of Naze, Japan</td>\n",
       "      <td>earthquake</td>\n",
       "      <td>NaN</td>\n",
       "      <td>9.9</td>\n",
       "      <td>NaN</td>\n",
       "      <td>2.0</td>\n",
       "      <td>reviewed</td>\n",
       "      <td>us</td>\n",
       "      <td>us</td>\n",
       "    </tr>\n",
       "    <tr>\n",
       "      <th>1</th>\n",
       "      <td>1995-12-30T20:45:14.190Z</td>\n",
       "      <td>40.831</td>\n",
       "      <td>143.190</td>\n",
       "      <td>30.1</td>\n",
       "      <td>5.7</td>\n",
       "      <td>mw</td>\n",
       "      <td>NaN</td>\n",
       "      <td>NaN</td>\n",
       "      <td>NaN</td>\n",
       "      <td>1.0</td>\n",
       "      <td>...</td>\n",
       "      <td>2022-04-29T19:51:40.841Z</td>\n",
       "      <td>off the east coast of Honshu, Japan</td>\n",
       "      <td>earthquake</td>\n",
       "      <td>NaN</td>\n",
       "      <td>NaN</td>\n",
       "      <td>NaN</td>\n",
       "      <td>NaN</td>\n",
       "      <td>reviewed</td>\n",
       "      <td>us</td>\n",
       "      <td>hrv</td>\n",
       "    </tr>\n",
       "    <tr>\n",
       "      <th>2</th>\n",
       "      <td>1995-12-30T16:15:33.090Z</td>\n",
       "      <td>31.025</td>\n",
       "      <td>140.136</td>\n",
       "      <td>116.9</td>\n",
       "      <td>5.3</td>\n",
       "      <td>mw</td>\n",
       "      <td>NaN</td>\n",
       "      <td>NaN</td>\n",
       "      <td>NaN</td>\n",
       "      <td>0.9</td>\n",
       "      <td>...</td>\n",
       "      <td>2016-11-10T00:19:51.375Z</td>\n",
       "      <td>Izu Islands, Japan region</td>\n",
       "      <td>earthquake</td>\n",
       "      <td>NaN</td>\n",
       "      <td>NaN</td>\n",
       "      <td>NaN</td>\n",
       "      <td>NaN</td>\n",
       "      <td>reviewed</td>\n",
       "      <td>us</td>\n",
       "      <td>hrv</td>\n",
       "    </tr>\n",
       "    <tr>\n",
       "      <th>3</th>\n",
       "      <td>1995-12-30T12:23:13.400Z</td>\n",
       "      <td>25.576</td>\n",
       "      <td>124.919</td>\n",
       "      <td>33.0</td>\n",
       "      <td>5.4</td>\n",
       "      <td>mb</td>\n",
       "      <td>NaN</td>\n",
       "      <td>NaN</td>\n",
       "      <td>NaN</td>\n",
       "      <td>1.3</td>\n",
       "      <td>...</td>\n",
       "      <td>2014-11-07T00:59:30.960Z</td>\n",
       "      <td>northeast of Taiwan</td>\n",
       "      <td>earthquake</td>\n",
       "      <td>NaN</td>\n",
       "      <td>NaN</td>\n",
       "      <td>NaN</td>\n",
       "      <td>27.0</td>\n",
       "      <td>reviewed</td>\n",
       "      <td>us</td>\n",
       "      <td>us</td>\n",
       "    </tr>\n",
       "    <tr>\n",
       "      <th>4</th>\n",
       "      <td>1995-12-30T12:17:37.040Z</td>\n",
       "      <td>40.745</td>\n",
       "      <td>143.232</td>\n",
       "      <td>33.0</td>\n",
       "      <td>5.7</td>\n",
       "      <td>mb</td>\n",
       "      <td>NaN</td>\n",
       "      <td>NaN</td>\n",
       "      <td>NaN</td>\n",
       "      <td>1.1</td>\n",
       "      <td>...</td>\n",
       "      <td>2022-04-29T19:51:39.284Z</td>\n",
       "      <td>off the east coast of Honshu, Japan</td>\n",
       "      <td>earthquake</td>\n",
       "      <td>NaN</td>\n",
       "      <td>NaN</td>\n",
       "      <td>NaN</td>\n",
       "      <td>104.0</td>\n",
       "      <td>reviewed</td>\n",
       "      <td>us</td>\n",
       "      <td>us</td>\n",
       "    </tr>\n",
       "  </tbody>\n",
       "</table>\n",
       "<p>5 rows × 22 columns</p>\n",
       "</div>"
      ]
     },
     "execution_count": 5,
     "metadata": {},
     "output_type": "execute_result"
    }
   ],
   "execution_count": 5
  },
  {
   "metadata": {},
   "cell_type": "markdown",
   "source": "## Initial Inspections",
   "id": "adf743a9e1f0ff00"
  },
  {
   "metadata": {
    "ExecuteTime": {
     "end_time": "2025-09-24T12:35:23.246552Z",
     "start_time": "2025-09-24T12:35:23.193052Z"
    }
   },
   "cell_type": "code",
   "source": "df.info()",
   "id": "6bf580c504807410",
   "outputs": [
    {
     "name": "stdout",
     "output_type": "stream",
     "text": [
      "<class 'pandas.core.frame.DataFrame'>\n",
      "RangeIndex: 41457 entries, 0 to 41456\n",
      "Data columns (total 22 columns):\n",
      " #   Column           Non-Null Count  Dtype  \n",
      "---  ------           --------------  -----  \n",
      " 0   time             41457 non-null  object \n",
      " 1   latitude         41457 non-null  float64\n",
      " 2   longitude        41457 non-null  float64\n",
      " 3   depth            41457 non-null  float64\n",
      " 4   mag              41457 non-null  float64\n",
      " 5   magType          41457 non-null  object \n",
      " 6   nst              22342 non-null  float64\n",
      " 7   gap              29225 non-null  float64\n",
      " 8   dmin             12123 non-null  float64\n",
      " 9   rms              40576 non-null  float64\n",
      " 10  net              41457 non-null  object \n",
      " 11  id               41457 non-null  object \n",
      " 12  updated          41457 non-null  object \n",
      " 13  place            41457 non-null  object \n",
      " 14  type             41457 non-null  object \n",
      " 15  horizontalError  10808 non-null  float64\n",
      " 16  depthError       25275 non-null  float64\n",
      " 17  magError         11948 non-null  float64\n",
      " 18  magNst           35541 non-null  float64\n",
      " 19  status           41457 non-null  object \n",
      " 20  locationSource   41457 non-null  object \n",
      " 21  magSource        41457 non-null  object \n",
      "dtypes: float64(12), object(10)\n",
      "memory usage: 7.0+ MB\n"
     ]
    }
   ],
   "execution_count": 6
  },
  {
   "metadata": {
    "ExecuteTime": {
     "end_time": "2025-09-24T12:35:33.341442Z",
     "start_time": "2025-09-24T12:35:33.316178Z"
    }
   },
   "cell_type": "code",
   "source": "df.isnull().sum()",
   "id": "9e8264017e35daeb",
   "outputs": [
    {
     "data": {
      "text/plain": [
       "time                   0\n",
       "latitude               0\n",
       "longitude              0\n",
       "depth                  0\n",
       "mag                    0\n",
       "magType                0\n",
       "nst                19115\n",
       "gap                12232\n",
       "dmin               29334\n",
       "rms                  881\n",
       "net                    0\n",
       "id                     0\n",
       "updated                0\n",
       "place                  0\n",
       "type                   0\n",
       "horizontalError    30649\n",
       "depthError         16182\n",
       "magError           29509\n",
       "magNst              5916\n",
       "status                 0\n",
       "locationSource         0\n",
       "magSource              0\n",
       "dtype: int64"
      ]
     },
     "execution_count": 7,
     "metadata": {},
     "output_type": "execute_result"
    }
   ],
   "execution_count": 7
  },
  {
   "metadata": {
    "ExecuteTime": {
     "end_time": "2025-09-24T12:35:56.565976Z",
     "start_time": "2025-09-24T12:35:56.506073Z"
    }
   },
   "cell_type": "code",
   "source": "df.describe()",
   "id": "b31d303da0371f2b",
   "outputs": [
    {
     "data": {
      "text/plain": [
       "           latitude     longitude         depth           mag           nst  \\\n",
       "count  41457.000000  41457.000000  41457.000000  41457.000000  22342.000000   \n",
       "mean      35.073214    139.764770     70.718338      4.480998     64.694029   \n",
       "std        6.073930      6.553554    103.820679      0.473305     89.763086   \n",
       "min       24.000000    122.000000      0.000000      2.700000      4.000000   \n",
       "25%       29.859900    138.852000     21.200000      4.200000     18.000000   \n",
       "50%       36.009000    141.616000     35.000000      4.400000     31.000000   \n",
       "75%       39.507000    143.232000     60.900000      4.700000     68.000000   \n",
       "max       45.500000    153.976200    686.390000      9.100000    929.000000   \n",
       "\n",
       "                gap          dmin           rms  horizontalError  \\\n",
       "count  29225.000000  12123.000000  40576.000000     10808.000000   \n",
       "mean     116.850337      2.066355      0.874852         7.466603   \n",
       "std       41.615959      1.529863      0.253780         2.443006   \n",
       "min        8.000000      0.028000      0.040000         1.300000   \n",
       "25%       92.000000      1.066000      0.700000         5.900000   \n",
       "50%      121.700000      1.831000      0.860000         7.300000   \n",
       "75%      136.100000      2.723500      1.030000         8.800000   \n",
       "max      353.400000     44.036000      1.940000        23.800000   \n",
       "\n",
       "         depthError      magError        magNst  \n",
       "count  25275.000000  11948.000000  35541.000000  \n",
       "mean       8.504521      0.121401     26.946062  \n",
       "std        7.044144      0.069131     49.389211  \n",
       "min        0.000000      0.020000      1.000000  \n",
       "25%        4.400000      0.071000      4.000000  \n",
       "50%        6.900000      0.107000     11.000000  \n",
       "75%       10.400000      0.157000     28.000000  \n",
       "max       74.100000      0.700000    884.000000  "
      ],
      "text/html": [
       "<div>\n",
       "<style scoped>\n",
       "    .dataframe tbody tr th:only-of-type {\n",
       "        vertical-align: middle;\n",
       "    }\n",
       "\n",
       "    .dataframe tbody tr th {\n",
       "        vertical-align: top;\n",
       "    }\n",
       "\n",
       "    .dataframe thead th {\n",
       "        text-align: right;\n",
       "    }\n",
       "</style>\n",
       "<table border=\"1\" class=\"dataframe\">\n",
       "  <thead>\n",
       "    <tr style=\"text-align: right;\">\n",
       "      <th></th>\n",
       "      <th>latitude</th>\n",
       "      <th>longitude</th>\n",
       "      <th>depth</th>\n",
       "      <th>mag</th>\n",
       "      <th>nst</th>\n",
       "      <th>gap</th>\n",
       "      <th>dmin</th>\n",
       "      <th>rms</th>\n",
       "      <th>horizontalError</th>\n",
       "      <th>depthError</th>\n",
       "      <th>magError</th>\n",
       "      <th>magNst</th>\n",
       "    </tr>\n",
       "  </thead>\n",
       "  <tbody>\n",
       "    <tr>\n",
       "      <th>count</th>\n",
       "      <td>41457.000000</td>\n",
       "      <td>41457.000000</td>\n",
       "      <td>41457.000000</td>\n",
       "      <td>41457.000000</td>\n",
       "      <td>22342.000000</td>\n",
       "      <td>29225.000000</td>\n",
       "      <td>12123.000000</td>\n",
       "      <td>40576.000000</td>\n",
       "      <td>10808.000000</td>\n",
       "      <td>25275.000000</td>\n",
       "      <td>11948.000000</td>\n",
       "      <td>35541.000000</td>\n",
       "    </tr>\n",
       "    <tr>\n",
       "      <th>mean</th>\n",
       "      <td>35.073214</td>\n",
       "      <td>139.764770</td>\n",
       "      <td>70.718338</td>\n",
       "      <td>4.480998</td>\n",
       "      <td>64.694029</td>\n",
       "      <td>116.850337</td>\n",
       "      <td>2.066355</td>\n",
       "      <td>0.874852</td>\n",
       "      <td>7.466603</td>\n",
       "      <td>8.504521</td>\n",
       "      <td>0.121401</td>\n",
       "      <td>26.946062</td>\n",
       "    </tr>\n",
       "    <tr>\n",
       "      <th>std</th>\n",
       "      <td>6.073930</td>\n",
       "      <td>6.553554</td>\n",
       "      <td>103.820679</td>\n",
       "      <td>0.473305</td>\n",
       "      <td>89.763086</td>\n",
       "      <td>41.615959</td>\n",
       "      <td>1.529863</td>\n",
       "      <td>0.253780</td>\n",
       "      <td>2.443006</td>\n",
       "      <td>7.044144</td>\n",
       "      <td>0.069131</td>\n",
       "      <td>49.389211</td>\n",
       "    </tr>\n",
       "    <tr>\n",
       "      <th>min</th>\n",
       "      <td>24.000000</td>\n",
       "      <td>122.000000</td>\n",
       "      <td>0.000000</td>\n",
       "      <td>2.700000</td>\n",
       "      <td>4.000000</td>\n",
       "      <td>8.000000</td>\n",
       "      <td>0.028000</td>\n",
       "      <td>0.040000</td>\n",
       "      <td>1.300000</td>\n",
       "      <td>0.000000</td>\n",
       "      <td>0.020000</td>\n",
       "      <td>1.000000</td>\n",
       "    </tr>\n",
       "    <tr>\n",
       "      <th>25%</th>\n",
       "      <td>29.859900</td>\n",
       "      <td>138.852000</td>\n",
       "      <td>21.200000</td>\n",
       "      <td>4.200000</td>\n",
       "      <td>18.000000</td>\n",
       "      <td>92.000000</td>\n",
       "      <td>1.066000</td>\n",
       "      <td>0.700000</td>\n",
       "      <td>5.900000</td>\n",
       "      <td>4.400000</td>\n",
       "      <td>0.071000</td>\n",
       "      <td>4.000000</td>\n",
       "    </tr>\n",
       "    <tr>\n",
       "      <th>50%</th>\n",
       "      <td>36.009000</td>\n",
       "      <td>141.616000</td>\n",
       "      <td>35.000000</td>\n",
       "      <td>4.400000</td>\n",
       "      <td>31.000000</td>\n",
       "      <td>121.700000</td>\n",
       "      <td>1.831000</td>\n",
       "      <td>0.860000</td>\n",
       "      <td>7.300000</td>\n",
       "      <td>6.900000</td>\n",
       "      <td>0.107000</td>\n",
       "      <td>11.000000</td>\n",
       "    </tr>\n",
       "    <tr>\n",
       "      <th>75%</th>\n",
       "      <td>39.507000</td>\n",
       "      <td>143.232000</td>\n",
       "      <td>60.900000</td>\n",
       "      <td>4.700000</td>\n",
       "      <td>68.000000</td>\n",
       "      <td>136.100000</td>\n",
       "      <td>2.723500</td>\n",
       "      <td>1.030000</td>\n",
       "      <td>8.800000</td>\n",
       "      <td>10.400000</td>\n",
       "      <td>0.157000</td>\n",
       "      <td>28.000000</td>\n",
       "    </tr>\n",
       "    <tr>\n",
       "      <th>max</th>\n",
       "      <td>45.500000</td>\n",
       "      <td>153.976200</td>\n",
       "      <td>686.390000</td>\n",
       "      <td>9.100000</td>\n",
       "      <td>929.000000</td>\n",
       "      <td>353.400000</td>\n",
       "      <td>44.036000</td>\n",
       "      <td>1.940000</td>\n",
       "      <td>23.800000</td>\n",
       "      <td>74.100000</td>\n",
       "      <td>0.700000</td>\n",
       "      <td>884.000000</td>\n",
       "    </tr>\n",
       "  </tbody>\n",
       "</table>\n",
       "</div>"
      ]
     },
     "execution_count": 8,
     "metadata": {},
     "output_type": "execute_result"
    }
   ],
   "execution_count": 8
  },
  {
   "metadata": {
    "ExecuteTime": {
     "end_time": "2025-09-24T12:36:10.859295Z",
     "start_time": "2025-09-24T12:36:10.847701Z"
    }
   },
   "cell_type": "code",
   "source": "df.shape",
   "id": "c5332378a4873bd6",
   "outputs": [
    {
     "data": {
      "text/plain": [
       "(41457, 22)"
      ]
     },
     "execution_count": 9,
     "metadata": {},
     "output_type": "execute_result"
    }
   ],
   "execution_count": 9
  },
  {
   "metadata": {},
   "cell_type": "markdown",
   "source": "## Calculate missing value percentages & Plot",
   "id": "5bf7d9961b985dd7"
  },
  {
   "metadata": {
    "ExecuteTime": {
     "end_time": "2025-09-24T12:37:01.700113Z",
     "start_time": "2025-09-24T12:37:01.592993Z"
    }
   },
   "cell_type": "code",
   "source": [
    "missing_percent = df.isnull().mean() * 100\n",
    "missing_df = pd.DataFrame({'Column': df.columns, 'Missing (%)': missing_percent}).sort_values(by='Missing (%)', ascending=False)"
   ],
   "id": "a7abd8e04279f537",
   "outputs": [],
   "execution_count": 10
  },
  {
   "metadata": {
    "ExecuteTime": {
     "end_time": "2025-09-24T12:37:15.742891Z",
     "start_time": "2025-09-24T12:37:15.726033Z"
    }
   },
   "cell_type": "code",
   "source": "print(\"\\nMissing Value Percentages:\\n\", missing_df)",
   "id": "37cde671914b8fe3",
   "outputs": [
    {
     "name": "stdout",
     "output_type": "stream",
     "text": [
      "\n",
      "Missing Value Percentages:\n",
      "                           Column  Missing (%)\n",
      "horizontalError  horizontalError    73.929614\n",
      "magError                magError    71.179777\n",
      "dmin                        dmin    70.757653\n",
      "nst                          nst    46.108016\n",
      "depthError            depthError    39.033215\n",
      "gap                          gap    29.505271\n",
      "magNst                    magNst    14.270208\n",
      "rms                          rms     2.125093\n",
      "time                        time     0.000000\n",
      "place                      place     0.000000\n",
      "locationSource    locationSource     0.000000\n",
      "status                    status     0.000000\n",
      "type                        type     0.000000\n",
      "id                            id     0.000000\n",
      "updated                  updated     0.000000\n",
      "latitude                latitude     0.000000\n",
      "net                          net     0.000000\n",
      "magType                  magType     0.000000\n",
      "mag                          mag     0.000000\n",
      "depth                      depth     0.000000\n",
      "longitude              longitude     0.000000\n",
      "magSource              magSource     0.000000\n"
     ]
    }
   ],
   "execution_count": 12
  },
  {
   "metadata": {
    "ExecuteTime": {
     "end_time": "2025-09-24T12:37:45.889482Z",
     "start_time": "2025-09-24T12:37:45.429536Z"
    }
   },
   "cell_type": "code",
   "source": [
    "# Plot missing values\n",
    "plt.figure()\n",
    "missing_df.plot(kind='bar', x='Column', y='Missing (%)', color='salmon', edgecolor='black')\n",
    "plt.title('Percentage of Missing Values per Column')\n",
    "plt.xlabel('Columns')\n",
    "plt.ylabel('Missing (%)')\n",
    "plt.xticks(rotation=45)\n",
    "plt.grid(axis='y', linestyle='--', alpha=0.7)\n",
    "plt.tight_layout()\n",
    "plt.show()\n"
   ],
   "id": "fa6396b9a7533180",
   "outputs": [
    {
     "data": {
      "text/plain": [
       "<Figure size 640x480 with 0 Axes>"
      ]
     },
     "metadata": {},
     "output_type": "display_data"
    },
    {
     "data": {
      "text/plain": [
       "<Figure size 640x480 with 1 Axes>"
      ],
      "image/png": "[encoded data removed]"
     },
     "metadata": {},
     "output_type": "display_data"
    }
   ],
   "execution_count": 13
  },
  {
   "metadata": {
    "ExecuteTime": {
     "end_time": "2025-09-24T12:45:09.700131Z",
     "start_time": "2025-09-24T12:45:08.726517Z"
    }
   },
   "cell_type": "code",
   "source": [
    "# Heat map plot missing values\n",
    "plt.figure()\n",
    "sns.heatmap(df.isnull(), cbar=True, cmap='viridis', yticklabels=False)\n",
    "plt.title('Missing Value Heatmap')\n",
    "plt.xlabel('Columns')\n",
    "plt.tight_layout()\n",
    "plt.show()"
   ],
   "id": "7c1e20c6e951c3aa",
   "outputs": [
    {
     "data": {
      "text/plain": [
       "<Figure size 640x480 with 2 Axes>"
      ],
      "image/png": "[encoded data removed]"
     },
     "metadata": {},
     "output_type": "display_data"
    }
   ],
   "execution_count": 14
  },
  {
   "metadata": {},
   "cell_type": "markdown",
   "source": "## Drop missing values more than 50%",
   "id": "cb294d6a212d4e75"
  },
  {
   "metadata": {
    "ExecuteTime": {
     "end_time": "2025-09-24T13:01:14.899252Z",
     "start_time": "2025-09-24T13:01:14.668292Z"
    }
   },
   "cell_type": "code",
   "source": [
    "cols_to_drop = [\n",
    "    'id',\n",
    "    'updated',\n",
    "    'net',\n",
    "    'place',\n",
    "    'type',\n",
    "    'status',\n",
    "    'locationSource',\n",
    "    'magSource',\n",
    "    'dmin',\n",
    "    'horizontalError',\n",
    "    'magError'\n",
    "]\n",
    "\n",
    "df_clean = df.drop(columns=cols_to_drop)"
   ],
   "id": "3bcd6ef9c8bf733a",
   "outputs": [],
   "execution_count": 15
  },
  {
   "metadata": {
    "ExecuteTime": {
     "end_time": "2025-09-24T13:01:40.090844Z",
     "start_time": "2025-09-24T13:01:40.064416Z"
    }
   },
   "cell_type": "code",
   "source": "df_clean.head()",
   "id": "61a23408f6e3507c",
   "outputs": [
    {
     "data": {
      "text/plain": [
       "                       time  latitude  longitude  depth  mag magType  nst  \\\n",
       "0  1995-12-30T23:19:36.080Z    27.958    130.181   23.4  3.4      mb  NaN   \n",
       "1  1995-12-30T20:45:14.190Z    40.831    143.190   30.1  5.7      mw  NaN   \n",
       "2  1995-12-30T16:15:33.090Z    31.025    140.136  116.9  5.3      mw  NaN   \n",
       "3  1995-12-30T12:23:13.400Z    25.576    124.919   33.0  5.4      mb  NaN   \n",
       "4  1995-12-30T12:17:37.040Z    40.745    143.232   33.0  5.7      mb  NaN   \n",
       "\n",
       "   gap  rms  depthError  magNst  \n",
       "0  NaN  1.0         9.9     2.0  \n",
       "1  NaN  1.0         NaN     NaN  \n",
       "2  NaN  0.9         NaN     NaN  \n",
       "3  NaN  1.3         NaN    27.0  \n",
       "4  NaN  1.1         NaN   104.0  "
      ],
      "text/html": [
       "<div>\n",
       "<style scoped>\n",
       "    .dataframe tbody tr th:only-of-type {\n",
       "        vertical-align: middle;\n",
       "    }\n",
       "\n",
       "    .dataframe tbody tr th {\n",
       "        vertical-align: top;\n",
       "    }\n",
       "\n",
       "    .dataframe thead th {\n",
       "        text-align: right;\n",
       "    }\n",
       "</style>\n",
       "<table border=\"1\" class=\"dataframe\">\n",
       "  <thead>\n",
       "    <tr style=\"text-align: right;\">\n",
       "      <th></th>\n",
       "      <th>time</th>\n",
       "      <th>latitude</th>\n",
       "      <th>longitude</th>\n",
       "      <th>depth</th>\n",
       "      <th>mag</th>\n",
       "      <th>magType</th>\n",
       "      <th>nst</th>\n",
       "      <th>gap</th>\n",
       "      <th>rms</th>\n",
       "      <th>depthError</th>\n",
       "      <th>magNst</th>\n",
       "    </tr>\n",
       "  </thead>\n",
       "  <tbody>\n",
       "    <tr>\n",
       "      <th>0</th>\n",
       "      <td>1995-12-30T23:19:36.080Z</td>\n",
       "      <td>27.958</td>\n",
       "      <td>130.181</td>\n",
       "      <td>23.4</td>\n",
       "      <td>3.4</td>\n",
       "      <td>mb</td>\n",
       "      <td>NaN</td>\n",
       "      <td>NaN</td>\n",
       "      <td>1.0</td>\n",
       "      <td>9.9</td>\n",
       "      <td>2.0</td>\n",
       "    </tr>\n",
       "    <tr>\n",
       "      <th>1</th>\n",
       "      <td>1995-12-30T20:45:14.190Z</td>\n",
       "      <td>40.831</td>\n",
       "      <td>143.190</td>\n",
       "      <td>30.1</td>\n",
       "      <td>5.7</td>\n",
       "      <td>mw</td>\n",
       "      <td>NaN</td>\n",
       "      <td>NaN</td>\n",
       "      <td>1.0</td>\n",
       "      <td>NaN</td>\n",
       "      <td>NaN</td>\n",
       "    </tr>\n",
       "    <tr>\n",
       "      <th>2</th>\n",
       "      <td>1995-12-30T16:15:33.090Z</td>\n",
       "      <td>31.025</td>\n",
       "      <td>140.136</td>\n",
       "      <td>116.9</td>\n",
       "      <td>5.3</td>\n",
       "      <td>mw</td>\n",
       "      <td>NaN</td>\n",
       "      <td>NaN</td>\n",
       "      <td>0.9</td>\n",
       "      <td>NaN</td>\n",
       "      <td>NaN</td>\n",
       "    </tr>\n",
       "    <tr>\n",
       "      <th>3</th>\n",
       "      <td>1995-12-30T12:23:13.400Z</td>\n",
       "      <td>25.576</td>\n",
       "      <td>124.919</td>\n",
       "      <td>33.0</td>\n",
       "      <td>5.4</td>\n",
       "      <td>mb</td>\n",
       "      <td>NaN</td>\n",
       "      <td>NaN</td>\n",
       "      <td>1.3</td>\n",
       "      <td>NaN</td>\n",
       "      <td>27.0</td>\n",
       "    </tr>\n",
       "    <tr>\n",
       "      <th>4</th>\n",
       "      <td>1995-12-30T12:17:37.040Z</td>\n",
       "      <td>40.745</td>\n",
       "      <td>143.232</td>\n",
       "      <td>33.0</td>\n",
       "      <td>5.7</td>\n",
       "      <td>mb</td>\n",
       "      <td>NaN</td>\n",
       "      <td>NaN</td>\n",
       "      <td>1.1</td>\n",
       "      <td>NaN</td>\n",
       "      <td>104.0</td>\n",
       "    </tr>\n",
       "  </tbody>\n",
       "</table>\n",
       "</div>"
      ]
     },
     "execution_count": 16,
     "metadata": {},
     "output_type": "execute_result"
    }
   ],
   "execution_count": 16
  },
  {
   "metadata": {},
   "cell_type": "markdown",
   "source": "## Plot missing values what keeps after dropped",
   "id": "f8cad604c7d0973f"
  },
  {
   "metadata": {
    "ExecuteTime": {
     "end_time": "2025-09-24T13:09:09.075661Z",
     "start_time": "2025-09-24T13:09:08.776829Z"
    }
   },
   "cell_type": "code",
   "source": [
    "# Calculate remaining missing percentages\n",
    "missing_percent_clean = df_clean.isnull().mean() * 100\n",
    "missing_df_clean = pd.DataFrame({'Column': df_clean.columns, 'Missing (%)': missing_percent_clean})\n",
    "\n",
    "# Simple bar plot\n",
    "plt.figure()\n",
    "plt.bar(missing_df_clean['Column'], missing_df_clean['Missing (%)'], color='lightblue')\n",
    "plt.title('Remaining Missing Values After Drop')\n",
    "plt.xlabel('Columns')\n",
    "plt.ylabel('Missing (%)')\n",
    "plt.xticks(rotation=45)\n",
    "plt.grid(axis='y', linestyle='--', alpha=0.7)\n",
    "plt.tight_layout()\n",
    "plt.show()"
   ],
   "id": "f4a851bbe805403d",
   "outputs": [
    {
     "data": {
      "text/plain": [
       "<Figure size 640x480 with 1 Axes>"
      ],
      "image/png": "[encoded data removed]"
     },
     "metadata": {},
     "output_type": "display_data"
    }
   ],
   "execution_count": 19
  },
  {
   "metadata": {},
   "cell_type": "markdown",
   "source": "",
   "id": "5263e5f78d5dae12"
  }
 ],
 "metadata": {
  "kernelspec": {
   "display_name": "Python 3",
   "language": "python",
   "name": "python3"
  },
  "language_info": {
   "codemirror_mode": {
    "name": "ipython",
    "version": 2
   },
   "file_extension": ".py",
   "mimetype": "text/x-python",
   "name": "python",
   "nbconvert_exporter": "python",
   "pygments_lexer": "ipython2",
   "version": "2.7.6"
  }
 },
 "nbformat": 4,
 "nbformat_minor": 5
}
